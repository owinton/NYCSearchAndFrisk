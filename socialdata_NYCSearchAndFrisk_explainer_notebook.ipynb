{
 "cells": [
  {
   "cell_type": "code",
   "execution_count": 1,
   "id": "prerequisite-armenia",
   "metadata": {},
   "outputs": [],
   "source": [
    "import pandas as pd\n",
    "import matplotlib.pyplot as plt\n",
    "import numpy as np\n",
    "import folium\n",
    "from scipy.interpolate import interp1d\n",
    "\n",
    "from bokeh.io import curdoc, show\n",
    "from bokeh.layouts import column, row\n",
    "from bokeh.models import ColumnDataSource, Slider, Legend\n",
    "from bokeh.plotting import Figure, figure, output_file, save\n",
    "from bokeh import palettes\n",
    "\n",
    "import json\n",
    "import seaborn as sns"
   ]
  },
  {
   "cell_type": "markdown",
   "id": "restricted-navigator",
   "metadata": {},
   "source": [
    "# Explainer notebook for NYC Stop-and-frisk project\n",
    "Link to webpage: https://nycsearchandfrisk.webflow.io\n",
    "\n",
    "Link to github project: https://github.com/owinton/NYCSearchAndFrisk\n",
    "\n",
    "By Øyvind Andreas Winton (s160602).\n",
    "\n",
    "## Structure of the explainer notebook.\n",
    "The notebook is structured in two parts. The first is the qualitative part, addressing the 7 bullet points on the Github Wiki. The second part is the data analysis and visualization part, which will be referred to in the text."
   ]
  },
  {
   "cell_type": "markdown",
   "id": "celtic-annotation",
   "metadata": {},
   "source": [
    "## 1. Motivation\n",
    "**What is your dataset?**\n",
    "I have used the NYPD NYC stop-and-frisk dataset, which can be accessed on [this link](https://data.cityofnewyork.us/Public-Safety/The-Stop-Question-and-Frisk-Data/ftxv-d5ix). It covers registered police stops by the NYPD from 2003 to 2016, totaling in around 5 million lines with around 100 attributes.\n",
    "\n",
    "**Why did you choose this particular dataset?**\n",
    "I read some articles about racial profiling in policing, and the matter of racial profiling during the stop-and-frisk initiatives of the Bloomberg administration came up. On the open source data base for NYC I then saw the data set, and figured that it would be interesting to work with, and see if I could find something in the data that indicated a racial bias in how these stops were performed. The questions raised regarding profiling are perhaps more relevant than ever in the light of last years increased public focus on these issues.\n",
    "\n",
    "**What was your goal for the end user's experience?**\n",
    "My initial goal was to present a website where interactive exploration of the data (along with some subtle guiding) would start with making the user ask the question of how to find signs of racial profiling, and then explore the data and find the indications of this in the data. However due to time constraints and no html/webpage programming experience, I saw it necessary to downscale my ambitions for interactivity and make a more author-driven magazine-style approach, where the user is guided through my analysis of the data.\n",
    "\n",
    "The goal for end user's experience for the webpage I created, was to present a large dataset in a comprehensible way, and to present relations that are not immediately apparent to the naked eye when looking at the dataset as a whole. The reader is guided through the poject, starting with setting the context of the issues, and give a birds-eye view of how many stops were performed during the time series analyzed.\n",
    "\n",
    "The maps provide an overview over the layout of New York, along with a few key graphs regarding the amount of stops in boroughs and precincts. However, the focus then changes more to the temporal development of different rates regarding the performed stops. As the presentation progresses from the overview to a more detailed look, the technical details increase in complexity, however with an attempt of making it mostly readable by people without specific knowledge about data science. An outlier here is the brief explanation of the machine learning approach used, where it was attempted to explain in a simple and comprehensible way.\n",
    "\n",
    "To sum it up: the goal was to provide the context of the issue, and progressively present more detailed parts of the analysis through the use of some interactivity and different types of visualization."
   ]
  },
  {
   "cell_type": "markdown",
   "id": "cellular-surgeon",
   "metadata": {},
   "source": [
    "## 2. Basic stats\n",
    "**Write about your choices in data cleaning and preprocessing.**\n",
    "I chose the discard the first three years of data, due to inconsistencies in what attributes were reported and how. From 2006 and forward the approach was more homogeneous, allowing for easier concatenation of all the data. To simplify the racial aspect I chose to combine sub groups of hispanics into one, and to discard all entries not regarding the races black, white and hispanic. Further, some small cleaning like removing entries with nan appearing in the columns I am interested in, fixing inconsistencies in spelling of city names and the like, was performed subsequently. Only a subset of attributes were kept, regarding the person (age, sex, race), time and place (precinct, city and year), and other relevant attributes (was an arrest made, was force used, was the suspect frisked or searched, was a pistol found on the suspect).\n",
    "\n",
    "**Write a short section that discusses the dataset stats, containing key points/plots from your exploratory data analysis.**\n",
    "The cleaned and combined data set has 3.880.159 lines and 21 attributes 9 of these attributes are used to form a final attribute regarding force use. The two first figures in this notebook display a lot of information. The first figure shows the temporal evolution of police stops from 2006 through 2016, where a dramatic decrease is seen after 2011. The second figure shows the amount of stops for each race per 1000 inhabitants of that race, and a very clear racial pattern is seen here. The largest difference is seen for Manhattan, where of 1000 black residents in Manhattan, 350 black persons were stopped on the street, compared to about only around 30 out of 1000 white residents."
   ]
  },
  {
   "cell_type": "markdown",
   "id": "stable-promise",
   "metadata": {},
   "source": [
    "## 3. Data Analysis.\n",
    "**Describe your data analysis and explain what you've learned about the dataset.**\n",
    "The data analysis process has been mainly focused around the grouping and summing of various attributes, grouped on each race. I have been looking for differences in frisk rates, search rates, arrest rates and use of force for each race, as well as looked at the geographical distribution of stops compared to the background population.\n",
    "I have found that there is a large a disparity between the different races in terms of how many are stopped per year compared to the background populaiton composition of the location they were stopped in. I have further found that white people are less prone to be frisked and less prone to be subject to force use by the police. However, white people are slightly more prone to be arrested once stopped. This last fact indicates that an innocent black person has a higher chance of being stopped on the street than an innocent white person\n",
    "\n",
    "**Talk about your machine-learning**\n",
    "I have applied logistic regression and random forest classification to classify whether an arrest is made or not, based on different attributes. I used a balanced dataset (downsampling, due to the large amount of data) so that the training and test data sets contained equally many instances of arrests and non-arrests. I used the models not for prediction, but to understand what sensitivities the models learned for each attribute, and found in particular that the logistic regression model had negative coefficients for black males with criminal-looking clothing: this means that these attributes draw the model towards predicting no arrest. The interpretation of this is that black males wearing criminal-looking clothing are more often stopped innocently without resulting in arrest, than people with other attributes.\n",
    "\n",
    "I would have liked to take the machine learning even further, and use logistic regression to understand the relationships between more variables. One possibility would be to clean the whole dataset (with all 100+ attributes) and feed it to the logistic regression, trying to make predictions on various attributes. This could lead to the discovery of more interesting connections than I had the time/ability to do in this project."
   ]
  },
  {
   "cell_type": "markdown",
   "id": "multiple-emerald",
   "metadata": {},
   "source": [
    "## 4. Genre.\n",
    "**Which tools did you use from visual narrative?** I used a \n",
    "- consistent visual platform. I made sure to make figures have the same colors and visual theme, and consistently used headlines on the webpage to section the presentation. This gives a sense of coherence in the presentation, and highlights that the presented content is about the same topic.\n",
    "- feature distinction. Framing figures with colors and whitespace. This puts focus on the features that I want to emphasize\n",
    "- motion/zooming/animated transitions. I made the webpage appear gradually as the user scrolls down. This draws attention to new parts, and gives the user a sense of dynamic interactivity.\n",
    "\n",
    "**Which tools did you use from narrative structure?**\n",
    "I used\n",
    "- linear ordering. This makes it easy for the author to present the story in a fashion so that the reader follows it in that way.\n",
    "- hover highlighting/details (Folium map). This lets the reader see the names of the areas and more detailed numbers, where the colors main objective is to give an overview.\n",
    "- filtering/selection/search (Bokeh plots). This lets the reader compare different years more easily than on the graph. Further, the tabs allow to check out different rates on demand.\n",
    "- very limited interactivity. This is more a consequence of limited experience and time, which was instead used on the content. \n",
    "- captions/headlines. This gives a quick overview, and makes skimming of sections more easy, as the headlines will guide the user to the parts they are interested in. \n",
    "- introductory text and summary. This sets the stage of the question, and frames the analysis, while helping the user get the key points of the contents afterwards."
   ]
  },
  {
   "cell_type": "markdown",
   "id": "isolated-franchise",
   "metadata": {},
   "source": [
    "## 5. Visualizations."
   ]
  },
  {
   "cell_type": "markdown",
   "id": "developmental-cambodia",
   "metadata": {},
   "source": [
    "I have made use of four different types of visualizations, which will be listed below.\n",
    "\n",
    "**Map**. The maps give an indication of the geographical distribution of crime, and help set the context of the analysis. While the rest of the analysis is not centered around the spatial attributes, a map is a still a way to set the stage of a presentation of data analysis. While limited, the interactivity does allow the user to get some more details of crime numbers, and learn the names of the boroughs of NYC.\n",
    "\n",
    "**Bar plots**. These plots give a clear indication of differences in race for the analyzed attribute. These are temporally aggregated, and thus blankly answers the question \"what is the rate of XYZ for each race?\". This type of plot gives an aggregate overview of the different rates, and allows for a very easy comparison of the racial differences in the total stops.\n",
    "\n",
    "**Line plots**. These plots are similar to the bar plots, but grouped by year. This allows to show if there is a temporal evolution in rates, and displays whether the temporal evolution for the different races are common. Line plots are a very easy-to-understand way to express temporally varying data, and the inclusion of multiple lines makes for easy comparison of values and trends.\n",
    "\n",
    "**Bokeh bar plots**. These plots are a interactive combinations of the two above, and allows the user to easily compare the rates of each rates for different years. These supplement the line plots, and make it easier to compare specific years.\n",
    "\n",
    "*Note:. While I had prepared to make embedded iframes with the visualizations onsite, I found out in the webpage development that the tool I chose to build the webpage did not support embedded code without paying for a premium access. Thus the Bokeh plots and Folium maps are included as external links to the github containing the code behind the project.*"
   ]
  },
  {
   "cell_type": "markdown",
   "id": "magnetic-jenny",
   "metadata": {},
   "source": [
    "## 6. Discussion\n",
    "**What went well?**. There were interesting temporal and racial variation to analyse and present, and these were well presented using classic pyplot figures. In particular the final step of machine learning proved insightful, and the interpretation of the coefficients led to the final conclusion - that there *is* an overrepresentation of certain characteristics in police stops that is not supported by the statistical evidence in this dataset.\n",
    "\n",
    "**What is still missing? What could be improved? Why?** I would have liked to present a more interactive webpage, where the user did more data exploration than just reading. This could also have allowed for new hypotheses to be made, besides the points I chose to investigate in my explorative data analysis.\n",
    "\n",
    "I have been very careful with making conclusions as I have limited experience as to what is necessary to deem something statistically significant. Further, I have been careful with concluding anything about casuality. Finally, this project touches upon emotionally and politically sensitive topics of race, identity and police brutality, which has to addressed carefully. I have tried to remain objective, and just stating what the data is saying, without either accusing certain races of being represented higher in crimes, nor accusing the police system of structural racism. More qualified people with more experience in the field should be left with those cases. This tip-toeing has limited what I feel confident about saying in the analysis, and made me very aware of not angling the conclusion too fiercely - it strengthened the objectivity of the analysis, but decreases the click-bait potential. This I see as a strength.\n",
    "\n",
    "There is a large potential in continuing with the machine learning part, to explore other relationships than I have."
   ]
  },
  {
   "cell_type": "markdown",
   "id": "brief-significance",
   "metadata": {},
   "source": [
    "## 7. Contributions\n",
    "Due to field work I chose to work on the project alone, as I knew there was an overarching chance that I had to leave during the beginning of May. All the work in this notebook and on the webpage is thus done by me (Øyvind Andreas Winton. s160602)."
   ]
  },
  {
   "cell_type": "markdown",
   "id": "close-guarantee",
   "metadata": {},
   "source": [
    "## Loading and cleaning data"
   ]
  },
  {
   "cell_type": "code",
   "execution_count": 2,
   "id": "indoor-helen",
   "metadata": {},
   "outputs": [],
   "source": [
    "cols = ['age', 'sex', 'pistol', 'year', 'pct', 'arstmade', 'frisked', 'pf_hands', 'pf_wall', 'pf_grnd', 'pf_drwep', 'pf_ptwep', 'pf_baton', 'pf_hcuff', 'pf_pepsp', 'pf_other', 'searched', 'race', 'city', 'cs_cloth']"
   ]
  },
  {
   "cell_type": "code",
   "execution_count": 3,
   "id": "medieval-amber",
   "metadata": {},
   "outputs": [
    {
     "name": "stderr",
     "output_type": "stream",
     "text": [
      "/Users/owinton/opt/miniconda3/envs/socialdata/lib/python3.9/site-packages/IPython/core/interactiveshell.py:3155: DtypeWarning: Columns (83) have mixed types.Specify dtype option on import or set low_memory=False.\n",
      "  has_raised = await self.run_ast_nodes(code_ast.body, cell_name,\n"
     ]
    }
   ],
   "source": [
    "#df2003 = pd.read_csv('crime/sqf-2003.csv', skipinitialspace=True, usecols=cols)\n",
    "#df2004 = pd.read_csv('crime/sqf-2004.csv', skipinitialspace=True, usecols=cols)\n",
    "#df2005 = pd.read_csv('crime/sqf-2005.csv', skipinitialspace=True, usecols=cols)\n",
    "df2006 = pd.read_csv('crime/sqf-2006.csv', skipinitialspace=True, usecols=cols)\n",
    "df2007 = pd.read_csv('crime/sqf-2007.csv', skipinitialspace=True, usecols=cols)\n",
    "df2008 = pd.read_csv('crime/sqf-2008.csv', skipinitialspace=True, usecols=cols)\n",
    "df2009 = pd.read_csv('crime/sqf-2009.csv', skipinitialspace=True, usecols=cols)\n",
    "df2010 = pd.read_csv('crime/sqf-2010.csv', skipinitialspace=True, usecols=cols)\n",
    "df2011 = pd.read_csv('crime/sqf-2011.csv', skipinitialspace=True, usecols=cols)\n",
    "df2012 = pd.read_csv('crime/sqf-2012.csv', skipinitialspace=True, usecols=cols)\n",
    "df2013 = pd.read_csv('crime/sqf-2013.csv', skipinitialspace=True, usecols=cols)\n",
    "df2014 = pd.read_csv('crime/sqf-2014.csv', skipinitialspace=True, usecols=cols)\n",
    "df2015 = pd.read_csv('crime/sqf-2015.csv', skipinitialspace=True, usecols=cols)\n",
    "df2016 = pd.read_csv('crime/sqf-2016.csv', skipinitialspace=True, usecols=cols)"
   ]
  },
  {
   "cell_type": "code",
   "execution_count": 4,
   "id": "incorporate-preservation",
   "metadata": {},
   "outputs": [],
   "source": [
    "df_tuple = (df2006, df2007, df2008, df2009, df2010, df2011, df2012, df2013, df2014, df2015, df2016)\n",
    "df = pd.concat(df_tuple)"
   ]
  },
  {
   "cell_type": "code",
   "execution_count": 5,
   "id": "joint-messenger",
   "metadata": {},
   "outputs": [],
   "source": [
    "cities = ['BRONX', 'BROOKLYN', 'MANHATTAN', 'QUEENS', 'STATEN ISLAND']\n",
    "races = ['B', 'H', 'W']"
   ]
  },
  {
   "cell_type": "code",
   "execution_count": 6,
   "id": "unexpected-blind",
   "metadata": {},
   "outputs": [
    {
     "name": "stderr",
     "output_type": "stream",
     "text": [
      "/Users/owinton/opt/miniconda3/envs/socialdata/lib/python3.9/site-packages/pandas/core/indexing.py:1637: SettingWithCopyWarning: \n",
      "A value is trying to be set on a copy of a slice from a DataFrame\n",
      "\n",
      "See the caveats in the documentation: https://pandas.pydata.org/pandas-docs/stable/user_guide/indexing.html#returning-a-view-versus-a-copy\n",
      "  self._setitem_single_block(indexer, value, name)\n"
     ]
    }
   ],
   "source": [
    "# Fix misspellings in city names, and remove empty city names\n",
    "df['city'].loc[df['city'] == 'STATEN IS'] = 'STATEN ISLAND'\n",
    "df['city'].loc[df['city'] == ' MANHATTAN'] = 'MANHATTAN'\n",
    "df = df[df['city'] != ' ']\n",
    "df = df[~df['city'].isna()]\n",
    "df = df[df['age'] != '**']\n",
    "df = df[~df['age'].isna()]\n",
    "\n",
    "# Reformat year and certain booleans, and retain only binary genders\n",
    "df['year'] = df['year'].astype(int)\n",
    "df['frisked'] = df['frisked'] == 'Y'\n",
    "df['searched'] = df['searched'] == 'Y'\n",
    "df['arstmade'] = df['arstmade'] == 'Y'\n",
    "df['pistol'] = df['pistol'] == 'Y'\n",
    "df['cs_cloth'] = df['cs_cloth'] == 'Y'\n",
    "df = df[df['sex'] != 'Z']\n",
    "\n",
    "\n",
    "\n",
    "\n",
    "\n",
    "# Combine subgroups of hispanic origin\n",
    "hispanic = (df['race'] == 'P') | (df['race'] == 'Q')\n",
    "df['race'].loc[hispanic] = 'H'\n",
    "\n",
    "# Keep only a select set of races\n",
    "df = df[df['race'].isin(races)]\n",
    "\n",
    "\n",
    "# Fix precinct data inconsistencies\n",
    "df = df[df['pct'] != ' ']\n",
    "df = df[~df['pct'].isna()]\n",
    "df['pct'] = df['pct'].astype(int)"
   ]
  },
  {
   "cell_type": "code",
   "execution_count": 7,
   "id": "european-stranger",
   "metadata": {},
   "outputs": [],
   "source": [
    "race_colors = ['C3', 'C5', 'C7'] # Color specification for plots"
   ]
  },
  {
   "cell_type": "code",
   "execution_count": 8,
   "id": "wrapped-pitch",
   "metadata": {},
   "outputs": [
    {
     "data": {
      "text/html": [
       "<div>\n",
       "<style scoped>\n",
       "    .dataframe tbody tr th:only-of-type {\n",
       "        vertical-align: middle;\n",
       "    }\n",
       "\n",
       "    .dataframe tbody tr th {\n",
       "        vertical-align: top;\n",
       "    }\n",
       "\n",
       "    .dataframe thead th {\n",
       "        text-align: right;\n",
       "    }\n",
       "</style>\n",
       "<table border=\"1\" class=\"dataframe\">\n",
       "  <thead>\n",
       "    <tr style=\"text-align: right;\">\n",
       "      <th></th>\n",
       "      <th>year</th>\n",
       "      <th>pct</th>\n",
       "      <th>arstmade</th>\n",
       "      <th>frisked</th>\n",
       "      <th>searched</th>\n",
       "      <th>pistol</th>\n",
       "      <th>pf_hands</th>\n",
       "      <th>pf_grnd</th>\n",
       "      <th>pf_wall</th>\n",
       "      <th>pf_drwep</th>\n",
       "      <th>pf_ptwep</th>\n",
       "      <th>pf_baton</th>\n",
       "      <th>pf_hcuff</th>\n",
       "      <th>pf_pepsp</th>\n",
       "      <th>pf_other</th>\n",
       "      <th>cs_cloth</th>\n",
       "      <th>sex</th>\n",
       "      <th>race</th>\n",
       "      <th>age</th>\n",
       "      <th>city</th>\n",
       "    </tr>\n",
       "  </thead>\n",
       "  <tbody>\n",
       "    <tr>\n",
       "      <th>2</th>\n",
       "      <td>2006</td>\n",
       "      <td>1</td>\n",
       "      <td>False</td>\n",
       "      <td>True</td>\n",
       "      <td>False</td>\n",
       "      <td>False</td>\n",
       "      <td>Y</td>\n",
       "      <td>N</td>\n",
       "      <td>N</td>\n",
       "      <td>N</td>\n",
       "      <td>N</td>\n",
       "      <td>N</td>\n",
       "      <td>N</td>\n",
       "      <td>N</td>\n",
       "      <td>N</td>\n",
       "      <td>False</td>\n",
       "      <td>M</td>\n",
       "      <td>H</td>\n",
       "      <td>19</td>\n",
       "      <td>MANHATTAN</td>\n",
       "    </tr>\n",
       "    <tr>\n",
       "      <th>3</th>\n",
       "      <td>2006</td>\n",
       "      <td>1</td>\n",
       "      <td>False</td>\n",
       "      <td>False</td>\n",
       "      <td>False</td>\n",
       "      <td>False</td>\n",
       "      <td>N</td>\n",
       "      <td>N</td>\n",
       "      <td>N</td>\n",
       "      <td>N</td>\n",
       "      <td>N</td>\n",
       "      <td>N</td>\n",
       "      <td>N</td>\n",
       "      <td>N</td>\n",
       "      <td>N</td>\n",
       "      <td>False</td>\n",
       "      <td>M</td>\n",
       "      <td>B</td>\n",
       "      <td>38</td>\n",
       "      <td>MANHATTAN</td>\n",
       "    </tr>\n",
       "    <tr>\n",
       "      <th>4</th>\n",
       "      <td>2006</td>\n",
       "      <td>1</td>\n",
       "      <td>False</td>\n",
       "      <td>False</td>\n",
       "      <td>False</td>\n",
       "      <td>False</td>\n",
       "      <td>N</td>\n",
       "      <td>N</td>\n",
       "      <td>N</td>\n",
       "      <td>N</td>\n",
       "      <td>N</td>\n",
       "      <td>N</td>\n",
       "      <td>N</td>\n",
       "      <td>N</td>\n",
       "      <td>N</td>\n",
       "      <td>False</td>\n",
       "      <td>M</td>\n",
       "      <td>B</td>\n",
       "      <td>22</td>\n",
       "      <td>MANHATTAN</td>\n",
       "    </tr>\n",
       "    <tr>\n",
       "      <th>5</th>\n",
       "      <td>2006</td>\n",
       "      <td>1</td>\n",
       "      <td>False</td>\n",
       "      <td>False</td>\n",
       "      <td>False</td>\n",
       "      <td>False</td>\n",
       "      <td>N</td>\n",
       "      <td>N</td>\n",
       "      <td>Y</td>\n",
       "      <td>N</td>\n",
       "      <td>Y</td>\n",
       "      <td>N</td>\n",
       "      <td>N</td>\n",
       "      <td>N</td>\n",
       "      <td>N</td>\n",
       "      <td>False</td>\n",
       "      <td>M</td>\n",
       "      <td>W</td>\n",
       "      <td>37</td>\n",
       "      <td>MANHATTAN</td>\n",
       "    </tr>\n",
       "    <tr>\n",
       "      <th>6</th>\n",
       "      <td>2006</td>\n",
       "      <td>1</td>\n",
       "      <td>False</td>\n",
       "      <td>True</td>\n",
       "      <td>True</td>\n",
       "      <td>False</td>\n",
       "      <td>Y</td>\n",
       "      <td>N</td>\n",
       "      <td>N</td>\n",
       "      <td>N</td>\n",
       "      <td>N</td>\n",
       "      <td>N</td>\n",
       "      <td>N</td>\n",
       "      <td>N</td>\n",
       "      <td>N</td>\n",
       "      <td>False</td>\n",
       "      <td>M</td>\n",
       "      <td>B</td>\n",
       "      <td>62</td>\n",
       "      <td>MANHATTAN</td>\n",
       "    </tr>\n",
       "  </tbody>\n",
       "</table>\n",
       "</div>"
      ],
      "text/plain": [
       "   year  pct  arstmade  frisked  searched  pistol pf_hands pf_grnd pf_wall  \\\n",
       "2  2006    1     False     True     False   False        Y       N       N   \n",
       "3  2006    1     False    False     False   False        N       N       N   \n",
       "4  2006    1     False    False     False   False        N       N       N   \n",
       "5  2006    1     False    False     False   False        N       N       Y   \n",
       "6  2006    1     False     True      True   False        Y       N       N   \n",
       "\n",
       "  pf_drwep pf_ptwep pf_baton pf_hcuff pf_pepsp pf_other  cs_cloth sex race  \\\n",
       "2        N        N        N        N        N        N     False   M    H   \n",
       "3        N        N        N        N        N        N     False   M    B   \n",
       "4        N        N        N        N        N        N     False   M    B   \n",
       "5        N        Y        N        N        N        N     False   M    W   \n",
       "6        N        N        N        N        N        N     False   M    B   \n",
       "\n",
       "  age       city  \n",
       "2  19  MANHATTAN  \n",
       "3  38  MANHATTAN  \n",
       "4  22  MANHATTAN  \n",
       "5  37  MANHATTAN  \n",
       "6  62  MANHATTAN  "
      ]
     },
     "execution_count": 8,
     "metadata": {},
     "output_type": "execute_result"
    }
   ],
   "source": [
    "df.head()"
   ]
  },
  {
   "cell_type": "markdown",
   "id": "south-metadata",
   "metadata": {},
   "source": [
    "### Loading precinct data"
   ]
  },
  {
   "cell_type": "code",
   "execution_count": 9,
   "id": "informed-failure",
   "metadata": {},
   "outputs": [],
   "source": [
    "precinct_raw = pd.read_csv('crime/nyc_2010pop_2020precincts.csv')\n",
    "precinct = precinct_raw[['precinct_2020', 'P0020002', 'P0020005', 'P0020006']].rename(columns={'precinct_2020': 'precinct', 'P0020002': 'Hispanic', 'P0020005': 'White', 'P0020006': 'Black'})\n",
    "precinct['total'] = precinct.sum(axis=1) - 1\n",
    "# Precinct 12 is Central park, where almost no one lives"
   ]
  },
  {
   "cell_type": "markdown",
   "id": "backed-county",
   "metadata": {},
   "source": [
    "# Some explorative data analysis"
   ]
  },
  {
   "cell_type": "code",
   "execution_count": 10,
   "id": "reported-digit",
   "metadata": {},
   "outputs": [],
   "source": [
    "# Based on 2021 data from https://worldpopulationreview.com/\n",
    "# Dictionary with population data by race and city\n",
    "census = {'BRONX' : {'B':419473, 'W':131140, 'H': 85341 + 184393},\n",
    "          'BROOKLYN' : {'B':776274, 'W':942865, 'H': 57409 + 189561},\n",
    "          'MANHATTAN' : {'B':203590, 'W':765627, 'H': 37403 + 156406},\n",
    "          'QUEENS' : {'B':393740, 'W':572903, 'H': 24689 + 302288},\n",
    "          'STATEN ISLAND' : {'B': 44472, 'W':289751, 'H': 4486 + 62283}\n",
    "         }\n",
    "races_dict = {'B': 'Black', 'H':'Hispanic', 'W':'White', }\n",
    "races_list = [races_dict[i] for i in races]"
   ]
  },
  {
   "cell_type": "markdown",
   "id": "enhanced-success",
   "metadata": {},
   "source": [
    "## The large picture"
   ]
  },
  {
   "cell_type": "code",
   "execution_count": 11,
   "id": "uniform-booth",
   "metadata": {},
   "outputs": [],
   "source": [
    "groupby_year = df.groupby(['year']).size()"
   ]
  },
  {
   "cell_type": "code",
   "execution_count": 12,
   "id": "victorian-pierre",
   "metadata": {},
   "outputs": [],
   "source": [
    "colors = plt.cm.Reds(groupby_year/groupby_year.max()*0.9)\n",
    "xinterp = np.linspace(2006, 2016, 1001)\n",
    "cint = interp1d(np.linspace(2006, 2016, 11), colors.T)\n",
    "c = cint(xinterp)"
   ]
  },
  {
   "cell_type": "code",
   "execution_count": 13,
   "id": "personal-economy",
   "metadata": {},
   "outputs": [
    {
     "data": {
      "text/plain": [
       "0.011"
      ]
     },
     "execution_count": 13,
     "metadata": {},
     "output_type": "execute_result"
    }
   ],
   "source": [
    "11/(len(xinterp)-1)"
   ]
  },
  {
   "cell_type": "code",
   "execution_count": 14,
   "id": "indoor-wheat",
   "metadata": {
    "scrolled": false
   },
   "outputs": [
    {
     "data": {
      "image/png": "[encoded data removed]",
      "text/plain": [
       "<Figure size 432x216 with 1 Axes>"
      ]
     },
     "metadata": {
      "needs_background": "light"
     },
     "output_type": "display_data"
    }
   ],
   "source": [
    "fig, ax = plt.subplots(figsize=(6, 3))\n",
    "ax.plot(range(2006, 2017), groupby_year.values/1e3, color='k')\n",
    "ax.set_title('Total recorded stops per year')\n",
    "ax.set_xlabel('Year')\n",
    "ax.set_ylabel('Number of stops (1000s)')\n",
    "ax.grid(axis='y')\n",
    "ax.bar(xinterp, 1000, color=c.T,width=10/(len(xinterp)-1), alpha=1, align='edge')\n",
    "ax.set_ylim([0, 800])\n",
    "cm = plt.cm\n",
    "fig.tight_layout()\n",
    "fig.savefig('total_stops.svg', dpi=600)"
   ]
  },
  {
   "cell_type": "markdown",
   "id": "terminal-operation",
   "metadata": {},
   "source": [
    "### Temporal evolution for each city and race"
   ]
  },
  {
   "cell_type": "code",
   "execution_count": 15,
   "id": "dangerous-means",
   "metadata": {},
   "outputs": [],
   "source": [
    "groupby_race_year_city = df.groupby(['race', 'year', 'city']).size()"
   ]
  },
  {
   "cell_type": "code",
   "execution_count": 16,
   "id": "foreign-chassis",
   "metadata": {
    "scrolled": false
   },
   "outputs": [
    {
     "data": {
      "image/png": "[encoded data removed]",
      "text/plain": [
       "<Figure size 1008x288 with 5 Axes>"
      ]
     },
     "metadata": {
      "needs_background": "light"
     },
     "output_type": "display_data"
    }
   ],
   "source": [
    "fig, axs = plt.subplots(ncols=len(cities), figsize=(14, 4),sharey=True)\n",
    "fig.subplots_adjust(hspace=0, wspace=0)\n",
    "years = range(2006, 2017)\n",
    "counts = np.zeros((5, 4, len(years)))\n",
    "for i, city in enumerate(cities):\n",
    "    axs[i].set_title('{}'.format(city.title()))\n",
    "    for k, race in enumerate(races):\n",
    "        counts[i,k, :] = groupby_race_year_city.unstack()[city][[race]].values\n",
    "        axs[i].plot(years, counts[i,k, :]/census[city][race]*1e3, label=races_dict[race], color=race_colors[k])\n",
    "\n",
    "        axs[i].set_ylim((0, 370))\n",
    "        axs[i].set_xticks((2007, 2011, 2015))\n",
    "        axs[i].grid(axis='y')\n",
    "axs[4].legend(fontsize='small')\n",
    "axs[0].set_ylabel('Stops per year per 1000 inhabitants of that race')\n",
    "axs[2].set_xlabel('Year')\n",
    "fig.savefig('stops_by_race_and_borough.svg', dpi=600)"
   ]
  },
  {
   "cell_type": "markdown",
   "id": "aquatic-checklist",
   "metadata": {},
   "source": [
    "## Plotting crimes in cities"
   ]
  },
  {
   "cell_type": "code",
   "execution_count": 17,
   "id": "lined-announcement",
   "metadata": {},
   "outputs": [],
   "source": [
    "groupby_year_city = df.groupby(['year', 'city']).size()\n",
    "c_data = pd.DataFrame(cities, columns=['City'])\n",
    "c_data['Total count'] = groupby_year_city.unstack().sum().values * 1000 / [sum(census[city].values()) for city in cities]\n",
    "\n",
    "# Add custom tooltip to GeoJSON file\n",
    "with open('crime/new-york-city-boroughs.geojson') as f:\n",
    "    map_data = f.readlines()\n",
    "    map_data = [json.loads(line) for line in map_data][0]\n",
    "\n",
    "for index, row in c_data.iterrows():\n",
    "    city_name = map_data['features'][index]['properties']['name']\n",
    "    map_data['features'][index]['properties']['tooltip'] = 'City: {}. Count: {:.0f} per 1000 inhabitants'.format(city_name.title(), c_data[c_data['City'] == city_name]['Total count'].values[0])"
   ]
  },
  {
   "cell_type": "code",
   "execution_count": 18,
   "id": "accepting-jersey",
   "metadata": {
    "scrolled": false
   },
   "outputs": [
    {
     "data": {
      "text/plain": [
       "<folium.features.GeoJson at 0x7f93a0daadf0>"
      ]
     },
     "execution_count": 18,
     "metadata": {},
     "output_type": "execute_result"
    }
   ],
   "source": [
    "m = folium.Map(location=[40.693943, -73.985880], default_zoom_start=14)\n",
    "choropleth = folium.Choropleth(\n",
    "    #geo_data='crime/new-york-city-boroughs.geojson',\n",
    "    geo_data = map_data,\n",
    "    name=\"choropleth\",\n",
    "    data=c_data,\n",
    "    fill_color=\"BuPu\",\n",
    "    fill_opacity=0.7,\n",
    "    line_opacity=0.8,\n",
    "    columns=['City', 'Total count'],\n",
    "    key_on=\"feature.properties.name\",\n",
    "    legend_name=\"Total stops per 1000 inhabitants\",\n",
    "    bins = [450, 550, 650, 750, 850],\n",
    "    reset=True,\n",
    "    ).add_to(m)\n",
    "style_function = \"font-size: 15px; font-weight: bold\"\n",
    "choropleth.geojson.add_child(\n",
    "    folium.features.GeoJsonTooltip(['tooltip'], style=style_function, label=False))"
   ]
  },
  {
   "cell_type": "code",
   "execution_count": 19,
   "id": "amino-treat",
   "metadata": {},
   "outputs": [],
   "source": [
    "m.save('borough_map.html')"
   ]
  },
  {
   "cell_type": "markdown",
   "id": "supposed-reserve",
   "metadata": {},
   "source": [
    "## Plotting crimes in precints"
   ]
  },
  {
   "cell_type": "code",
   "execution_count": 20,
   "id": "settled-coupon",
   "metadata": {},
   "outputs": [],
   "source": [
    "# Open GeoJSON file and add tooltips to the map\n",
    "with open(\"crime/nyc-police-precincts.geojson\") as f:\n",
    "    map_data = f.readlines()\n",
    "    map_data = [json.loads(line) for line in map_data][0]"
   ]
  },
  {
   "cell_type": "code",
   "execution_count": 21,
   "id": "protecting-advocacy",
   "metadata": {},
   "outputs": [],
   "source": [
    "c_data = pd.DataFrame(df.groupby(['pct']).size(), columns=['crime count']).reset_index()\n",
    "c_data['crime count'] = c_data['crime count'] / precinct['total'] * 1000\n",
    "c_data['pct'] = c_data['pct'].apply(str)\n",
    "for index, row in c_data.iterrows():\n",
    "    map_data['features'][index]['properties']['tooltip'] = 'Precinct: {}. Count: {:.0f} per 1000 inhabitants'.format(row['pct'], row['crime count'])"
   ]
  },
  {
   "cell_type": "code",
   "execution_count": 22,
   "id": "willing-alloy",
   "metadata": {
    "scrolled": false
   },
   "outputs": [],
   "source": [
    "m = folium.Map(location=[40.693943, -73.985880], default_zoom_start=20)\n",
    "choropleth = folium.Choropleth(\n",
    "    #geo_data='crime/nyc-police-precincts.geojson',\n",
    "    geo_data=map_data,\n",
    "    name=\"choropleth\",\n",
    "    data=c_data[c_data['pct'] != '22'],\n",
    "    fill_color=\"BuPu\",\n",
    "    fill_opacity=0.7,\n",
    "    line_opacity=0.8,\n",
    "    columns=['pct', 'crime count'],\n",
    "    key_on=\"feature.properties.precinct\",\n",
    "    bins = [0, 500, 1000, 1500, 2000, 5000],\n",
    "    reset=True,\n",
    "    ).add_to(m)\n",
    "#folium.LayerControl().add_to(m)\n",
    "choropleth.geojson.add_child(folium.features.GeoJsonTooltip(['tooltip'], style=style_function, label=False))\n",
    "\n",
    "m\n",
    "m.save('precinct_map.html')"
   ]
  },
  {
   "cell_type": "markdown",
   "id": "square-admission",
   "metadata": {},
   "source": [
    "## Force used by race"
   ]
  },
  {
   "cell_type": "code",
   "execution_count": 23,
   "id": "egyptian-helen",
   "metadata": {},
   "outputs": [],
   "source": [
    "# If one of the force-used attributes are 'Y', force was used.\n",
    "conditions = (df['pf_hands'] == 'Y') | (df['pf_wall'] == 'Y') | (df['pf_grnd'] == 'Y') | (df['pf_drwep'] == 'Y') | (df['pf_ptwep'] == 'Y') | (df['pf_baton'] == 'Y') | (df['pf_hcuff'] == 'Y') | (df['pf_pepsp'] == 'Y')| (df['pf_other'] == 'Y')\n",
    "df['Force used'] = conditions"
   ]
  },
  {
   "cell_type": "code",
   "execution_count": 24,
   "id": "wound-destination",
   "metadata": {},
   "outputs": [
    {
     "data": {
      "text/plain": [
       "(3880159, 21)"
      ]
     },
     "execution_count": 24,
     "metadata": {},
     "output_type": "execute_result"
    }
   ],
   "source": [
    "df.shape"
   ]
  },
  {
   "cell_type": "code",
   "execution_count": 25,
   "id": "italic-distributor",
   "metadata": {},
   "outputs": [],
   "source": [
    "groupby_race_force = df.groupby(['race', 'Force used']).size().unstack()"
   ]
  },
  {
   "cell_type": "code",
   "execution_count": 26,
   "id": "decent-williams",
   "metadata": {},
   "outputs": [],
   "source": [
    "force_by_race = groupby_race_force.div(groupby_race_force.sum(axis=1), axis=0)"
   ]
  },
  {
   "cell_type": "code",
   "execution_count": 27,
   "id": "precious-lebanon",
   "metadata": {},
   "outputs": [
    {
     "data": {
      "image/png": "[encoded data removed]",
      "text/plain": [
       "<Figure size 720x216 with 2 Axes>"
      ]
     },
     "metadata": {
      "needs_background": "light"
     },
     "output_type": "display_data"
    }
   ],
   "source": [
    "fig, axs = plt.subplots(ncols=2, figsize=(10,3), sharey=True)\n",
    "force_by_race[True].plot.bar(ylabel='Frequency', xlabel='Race', rot=0, ax=axs[0], color=race_colors)\n",
    "axs[0].set_xticklabels(labels=[races_dict[i] for i in force_by_race.index])\n",
    "#ax.legend(loc='center left', bbox_to_anchor=(1.0, 0.5))\n",
    "axs[0].set_title('Force use based on race');\n",
    "axs[0].grid(axis='y')\n",
    "#fig.tight_layout()\n",
    "#fig.savefig('force_rate.png', dpi=600)\n",
    "\n",
    "for k, race in enumerate(races):\n",
    "    groupby = df[df['race'] == race].groupby(['year', 'Force used']).size().unstack()\n",
    "    groupby = groupby.div(groupby.sum(axis=1), axis=0)\n",
    "    groupby.iloc[:, 1].plot.line(y='True', ax=axs[1], label=races_dict[race], color=race_colors[k])\n",
    "axs[1].legend(loc='center left', bbox_to_anchor=(1.0, 0.5))\n",
    "axs[1].set_title('Temporal development of force use based on race')\n",
    "axs[1].set_ylabel('Frequency')\n",
    "axs[1].grid(axis='y')\n",
    "fig.tight_layout()\n",
    "fig.savefig('force.svg', dpi=600)"
   ]
  },
  {
   "cell_type": "code",
   "execution_count": 28,
   "id": "gentle-combining",
   "metadata": {},
   "outputs": [],
   "source": [
    "force_used = df.groupby(['year', 'race', 'Force used']).size().unstack()\n",
    "force_used = pd.DataFrame(force_used[True] / force_used.sum(axis=1).values)\n",
    "force_used = force_used.unstack().T.droplevel(0)\n",
    "force_used = force_used.reset_index()\n",
    "force_used.columns = [str(string) for string in force_used.columns]\n",
    "force_used['race'] = races_list"
   ]
  },
  {
   "cell_type": "code",
   "execution_count": 29,
   "id": "statutory-dylan",
   "metadata": {},
   "outputs": [
    {
     "data": {
      "text/plain": [
       "'/Users/owinton/Documents/DTU/10_semester/socialdata2021/project/bokeh_force.html'"
      ]
     },
     "execution_count": 29,
     "metadata": {},
     "output_type": "execute_result"
    }
   ],
   "source": [
    "# Bokeh\n",
    "colors = palettes.Category20c[len(years)] # Extract a categorical colormap\n",
    "bokeh_data = ColumnDataSource(force_used) # Transform data for use with Bokeh\n",
    "p = figure(plot_width=500, plot_height=400, title='Force used rate', x_range=force_used['race'], y_range=[0, 0.4])\n",
    "bar = {}\n",
    "legend_items = []\n",
    "for i, year in enumerate(force_used.columns[1:]):\n",
    "    # Make a bar plot for crime, and set the alpha and muted alpha.\n",
    "    bar[year] = p.vbar(x='race', width=0.7, top=year, color=colors[i], source=bokeh_data, alpha=0.5, muted_alpha=0.0, muted=True)\n",
    "    legend_items.append((str(year), [bar[year]]))\n",
    "legend = Legend(items=legend_items, location=(5, 0))\n",
    "p.add_layout(legend, 'right')\n",
    "p.legend.click_policy=\"mute\"\n",
    "p.xaxis.axis_label = 'Race'\n",
    "p.yaxis.axis_label = 'Frequency of force used'\n",
    "output_file('bokeh_force.html')\n",
    "save(p)"
   ]
  },
  {
   "cell_type": "markdown",
   "id": "imposed-depth",
   "metadata": {},
   "source": [
    "### Frisked"
   ]
  },
  {
   "cell_type": "code",
   "execution_count": 30,
   "id": "compound-router",
   "metadata": {},
   "outputs": [],
   "source": [
    "groupby_race_frisk = df.groupby(['race', 'frisked']).size().unstack()"
   ]
  },
  {
   "cell_type": "code",
   "execution_count": 31,
   "id": "indirect-viking",
   "metadata": {},
   "outputs": [],
   "source": [
    "frisk_by_race = groupby_race_frisk.div(groupby_race_frisk.sum(axis=1), axis=0)"
   ]
  },
  {
   "cell_type": "code",
   "execution_count": 32,
   "id": "naval-vehicle",
   "metadata": {
    "scrolled": true
   },
   "outputs": [
    {
     "data": {
      "image/png": "[encoded data removed]",
      "text/plain": [
       "<Figure size 720x216 with 2 Axes>"
      ]
     },
     "metadata": {
      "needs_background": "light"
     },
     "output_type": "display_data"
    }
   ],
   "source": [
    "fig, axs = plt.subplots(ncols=2, figsize=(10,3), sharey=True)\n",
    "\n",
    "frisk_by_race[True].plot.bar(ylabel='Frequency', xlabel='Race', ax=axs[0], rot=0, color=race_colors)\n",
    "axs[0].set_xticklabels(labels=[races_dict[i] for i in force_by_race.index])\n",
    "#ax.legend(loc='center left', bbox_to_anchor=(1.0, 0.5))\n",
    "axs[0].set_title('Frisk based on race');\n",
    "axs[0].grid(axis='y')\n",
    "#fig.tight_layout()\n",
    "#fig.savefig('frisk_rate.png', dpi=600)\n",
    "\n",
    "for k, race in enumerate(races):\n",
    "    groupby = df[df['race'] == race].groupby(['year', 'frisked']).size().unstack()\n",
    "    groupby = groupby.div(groupby.sum(axis=1), axis=0)\n",
    "    groupby.iloc[:, 1].plot.line(y=True, ax=axs[1], label=races_dict[race], color=race_colors[k])\n",
    "axs[1].legend(loc='center left', bbox_to_anchor=(1.0, 0.5))\n",
    "axs[1].set_title('Temporal development of frisk rates based on race')\n",
    "axs[1].set_xlabel('Year')\n",
    "axs[1].set_ylabel('Frequency')\n",
    "axs[1].grid(axis='y')\n",
    "fig.tight_layout()\n",
    "fig.savefig('frisk.svg', dpi=600)"
   ]
  },
  {
   "cell_type": "code",
   "execution_count": 33,
   "id": "respected-deadline",
   "metadata": {},
   "outputs": [],
   "source": [
    "frisked = df.groupby(['year', 'race', 'frisked']).size().unstack()\n",
    "frisked = pd.DataFrame(frisked[True] / frisked.sum(axis=1).values)\n",
    "frisked = frisked.unstack().T.droplevel(0)\n",
    "frisked = frisked.reset_index()\n",
    "frisked.columns = [str(string) for string in frisked.columns]\n",
    "frisked['race'] = races_list"
   ]
  },
  {
   "cell_type": "code",
   "execution_count": 34,
   "id": "entertaining-shower",
   "metadata": {},
   "outputs": [
    {
     "data": {
      "text/plain": [
       "'/Users/owinton/Documents/DTU/10_semester/socialdata2021/project/bokeh_frisk.html'"
      ]
     },
     "execution_count": 34,
     "metadata": {},
     "output_type": "execute_result"
    }
   ],
   "source": [
    "colors = palettes.Category20c[len(years)] # Extract a categorical colormap\n",
    "bokeh_data = ColumnDataSource(frisked) # Transform data for use with Bokeh\n",
    "p = figure(plot_width=500, plot_height=400, title='Frisk rates', x_range=force_used['race'], y_range=[0, 0.8])\n",
    "bar = {}\n",
    "legend_items = []\n",
    "for i, year in enumerate(frisked.columns[1:]):\n",
    "    # Make a bar plot for crime, and set the alpha and muted alpha.\n",
    "    bar[year] = p.vbar(x='race', width=0.7, top=year, color=colors[i], source=bokeh_data, alpha=0.5, muted_alpha=0.0, muted=True)\n",
    "    legend_items.append((str(year), [bar[year]]))\n",
    "legend = Legend(items=legend_items, location=(5, 0))\n",
    "p.add_layout(legend, 'right')\n",
    "p.legend.click_policy=\"mute\"\n",
    "p.xaxis.axis_label = 'Race'\n",
    "p.yaxis.axis_label = 'Frequency'\n",
    "output_file('bokeh_frisk.html')\n",
    "save(p)"
   ]
  },
  {
   "cell_type": "code",
   "execution_count": null,
   "id": "removable-ladder",
   "metadata": {},
   "outputs": [],
   "source": []
  },
  {
   "cell_type": "markdown",
   "id": "historical-preliminary",
   "metadata": {},
   "source": [
    "### Searched"
   ]
  },
  {
   "cell_type": "code",
   "execution_count": 35,
   "id": "prescription-bosnia",
   "metadata": {},
   "outputs": [],
   "source": [
    "groupby_race_search = df.groupby(['race', 'searched']).size().unstack()"
   ]
  },
  {
   "cell_type": "code",
   "execution_count": 36,
   "id": "exclusive-surgery",
   "metadata": {},
   "outputs": [],
   "source": [
    "search_by_race = groupby_race_search.div(groupby_race_search.sum(axis=1), axis=0)"
   ]
  },
  {
   "cell_type": "code",
   "execution_count": 37,
   "id": "organic-jackson",
   "metadata": {},
   "outputs": [
    {
     "data": {
      "image/png": "[encoded data removed]",
      "text/plain": [
       "<Figure size 720x216 with 2 Axes>"
      ]
     },
     "metadata": {
      "needs_background": "light"
     },
     "output_type": "display_data"
    }
   ],
   "source": [
    "fig, axs = plt.subplots(ncols=2, figsize=(10,3), sharey=True)\n",
    "search_by_race[True].plot.bar(ax=axs[0],ylabel='Frequency', xlabel='Race', rot=0, color=race_colors)\n",
    "axs[0].set_xticklabels(labels=[races_dict[i] for i in search_by_race.index])\n",
    "#ax.legend(loc='center left', bbox_to_anchor=(1.0, 0.5))\n",
    "axs[0].set_title('Search rates based on race');\n",
    "axs[0].grid(axis='y')\n",
    "\n",
    "#fig.tight_layout()\n",
    "#fig.savefig('search_rate.png', dpi=600)\n",
    "\n",
    "for k, race in enumerate(races):\n",
    "    groupby = df[df['race'] == race].groupby(['year', 'searched']).size().unstack()\n",
    "    groupby = groupby.div(groupby.sum(axis=1), axis=0)\n",
    "    groupby.iloc[:, 1].plot.line(y=True, ax=axs[1], label=races_dict[race], color=race_colors[k])\n",
    "axs[1].legend(loc='center left', bbox_to_anchor=(1.0, 0.5))\n",
    "axs[1].set_title('Temporal development of search rates based on race')\n",
    "axs[1].set_xlabel('Year')\n",
    "axs[1].grid(axis='y')\n",
    "axs[1].set_ylabel('Frequency')\n",
    "fig.tight_layout()\n",
    "fig.savefig('search.svg', dpi=600)"
   ]
  },
  {
   "cell_type": "code",
   "execution_count": 38,
   "id": "intimate-finnish",
   "metadata": {},
   "outputs": [],
   "source": [
    "searched = df.groupby(['year', 'race', 'searched']).size().unstack()\n",
    "searched = pd.DataFrame(searched[True] / searched.sum(axis=1).values)\n",
    "searched = searched.unstack().T.droplevel(0)\n",
    "searched = searched.reset_index()\n",
    "searched.columns = [str(string) for string in searched.columns]\n",
    "searched['race'] = races_list"
   ]
  },
  {
   "cell_type": "code",
   "execution_count": 39,
   "id": "proved-copper",
   "metadata": {},
   "outputs": [
    {
     "data": {
      "text/plain": [
       "'/Users/owinton/Documents/DTU/10_semester/socialdata2021/project/bokeh_search.html'"
      ]
     },
     "execution_count": 39,
     "metadata": {},
     "output_type": "execute_result"
    }
   ],
   "source": [
    "# Bokeh part for hours\n",
    "colors = palettes.Category20c[len(years)] # Extract a categorical colormap\n",
    "bokeh_data = ColumnDataSource(searched) # Transform data for use with Bokeh\n",
    "p = figure(plot_width=500, plot_height=400, title='Search rates', x_range=searched['race'], y_range=[0, 0.3])\n",
    "bar = {}\n",
    "legend_items = []\n",
    "for i, year in enumerate(searched.columns[1:]):\n",
    "    bar[year] = p.vbar(x='race', width=0.7, top=year, color=colors[i], source=bokeh_data, alpha=0.5, muted_alpha=0.0, muted=True)\n",
    "    legend_items.append((str(year), [bar[year]]))\n",
    "legend = Legend(items=legend_items, location=(5, 0))\n",
    "p.add_layout(legend, 'right')\n",
    "p.legend.click_policy=\"mute\"\n",
    "p.xaxis.axis_label = 'Race'\n",
    "p.yaxis.axis_label = 'Frequency'\n",
    "output_file('bokeh_search.html')\n",
    "save(p)"
   ]
  },
  {
   "cell_type": "markdown",
   "id": "indian-representative",
   "metadata": {},
   "source": [
    "### Arrest made"
   ]
  },
  {
   "cell_type": "code",
   "execution_count": 40,
   "id": "legendary-geology",
   "metadata": {},
   "outputs": [],
   "source": [
    "groupby_race_arrest = df.groupby(['race', 'arstmade']).size().unstack()"
   ]
  },
  {
   "cell_type": "code",
   "execution_count": 41,
   "id": "frozen-madness",
   "metadata": {},
   "outputs": [],
   "source": [
    "arrest_by_race = groupby_race_arrest.div(groupby_race_arrest.sum(axis=1), axis=0)"
   ]
  },
  {
   "cell_type": "code",
   "execution_count": 42,
   "id": "approximate-malta",
   "metadata": {},
   "outputs": [
    {
     "data": {
      "image/png": "[encoded data removed]",
      "text/plain": [
       "<Figure size 720x216 with 2 Axes>"
      ]
     },
     "metadata": {
      "needs_background": "light"
     },
     "output_type": "display_data"
    }
   ],
   "source": [
    "fig, axs = plt.subplots(ncols=2, figsize=(10,3), sharey=True)\n",
    "arrest_by_race[True].plot.bar(ax=axs[0],ylabel='Frequency', xlabel='Race', rot=0, color=race_colors)\n",
    "axs[0].set_xticklabels(labels=[races_dict[i] for i in arrest_by_race.index])\n",
    "#ax.legend(loc='center left', bbox_to_anchor=(1.0, 0.5))\n",
    "axs[0].set_title('Arrested based on race');\n",
    "axs[0].grid(axis='y')\n",
    "#fig.tight_layout()\n",
    "#plt.savefig('arrest_rate.png', dpi=600)\n",
    "\n",
    "for k, race in enumerate(races):\n",
    "    groupby = df[df['race'] == race].groupby(['year', 'arstmade']).size().unstack()\n",
    "    groupby = groupby.div(groupby.sum(axis=1), axis=0)\n",
    "    groupby.iloc[:, 1].plot.line(y=True, ax=axs[1], label=races_dict[race], color=race_colors[k])\n",
    "axs[1].legend(loc='center left', bbox_to_anchor=(1.0, 0.5))\n",
    "axs[1].set_title('Temporal development of arrest rates based on race')\n",
    "axs[1].set_xlabel('Year')\n",
    "axs[1].set_ylabel('Frequency of arrest')\n",
    "axs[1].grid(axis='y')\n",
    "axs[1].grid(axis='y')\n",
    "axs[1].grid(axis='y')\n",
    "fig.tight_layout()\n",
    "fig.savefig('arrest.svg', dpi=600)"
   ]
  },
  {
   "cell_type": "code",
   "execution_count": 43,
   "id": "under-allen",
   "metadata": {},
   "outputs": [],
   "source": [
    "arrested = df.groupby(['year', 'race', 'arstmade']).size().unstack()\n",
    "arrested = pd.DataFrame(arrested[True] / arrested.sum(axis=1).values)\n",
    "arrested = arrested.unstack().T.droplevel(0)\n",
    "arrested = arrested.reset_index()\n",
    "arrested.columns = [str(string) for string in arrested.columns]\n",
    "arrested['race'] = races_list"
   ]
  },
  {
   "cell_type": "code",
   "execution_count": 44,
   "id": "portuguese-seafood",
   "metadata": {},
   "outputs": [
    {
     "data": {
      "text/plain": [
       "'/Users/owinton/Documents/DTU/10_semester/socialdata2021/project/bokeh_arrest.html'"
      ]
     },
     "execution_count": 44,
     "metadata": {},
     "output_type": "execute_result"
    }
   ],
   "source": [
    "# For arrests\n",
    "colors = palettes.Category20c[len(years)] # Extract a categorical colormap\n",
    "bokeh_data = ColumnDataSource(arrested) # Transform data for use with Bokeh\n",
    "p = figure(plot_width=500, plot_height=400, title='Arrest rates', x_range=searched['race'], y_range=[0, 0.3])\n",
    "bar = {}\n",
    "legend_items = []\n",
    "for i, year in enumerate(searched.columns[1:]):\n",
    "    # Make a bar plot for crime, and set the alpha and muted alpha.\n",
    "    bar[year] = p.vbar(x='race', width=0.7, top=year, color=colors[i], source=bokeh_data, alpha=0.5, muted_alpha=0.0, muted=True)\n",
    "    legend_items.append((str(year), [bar[year]]))\n",
    "legend = Legend(items=legend_items, location=(5, 0))\n",
    "p.add_layout(legend, 'right')\n",
    "p.legend.click_policy=\"mute\"\n",
    "p.xaxis.axis_label = 'Race'\n",
    "p.yaxis.axis_label = 'Frequency of arrest'\n",
    "output_file('bokeh_arrest.html')\n",
    "save(p)"
   ]
  },
  {
   "cell_type": "markdown",
   "id": "completed-basics",
   "metadata": {},
   "source": [
    "## Machine learning part"
   ]
  },
  {
   "cell_type": "markdown",
   "id": "acceptable-europe",
   "metadata": {},
   "source": [
    "Preparation of features and target. Predict arrest made based on key features."
   ]
  },
  {
   "cell_type": "code",
   "execution_count": 45,
   "id": "drawn-bandwidth",
   "metadata": {},
   "outputs": [],
   "source": [
    "from sklearn.linear_model import LogisticRegression\n",
    "from sklearn.neural_network import MLPClassifier\n",
    "from sklearn.metrics import plot_confusion_matrix\n",
    "from sklearn.model_selection import train_test_split\n",
    "from sklearn.utils import resample\n",
    "from sklearn.ensemble import RandomForestClassifier\n",
    "from sklearn.inspection import permutation_importance\n"
   ]
  },
  {
   "cell_type": "code",
   "execution_count": 46,
   "id": "conventional-divide",
   "metadata": {},
   "outputs": [
    {
     "data": {
      "text/plain": [
       "Index(['year', 'pct', 'arstmade', 'frisked', 'searched', 'pistol', 'pf_hands',\n",
       "       'pf_grnd', 'pf_wall', 'pf_drwep', 'pf_ptwep', 'pf_baton', 'pf_hcuff',\n",
       "       'pf_pepsp', 'pf_other', 'cs_cloth', 'sex', 'race', 'age', 'city',\n",
       "       'Force used'],\n",
       "      dtype='object')"
      ]
     },
     "execution_count": 46,
     "metadata": {},
     "output_type": "execute_result"
    }
   ],
   "source": [
    "df.columns"
   ]
  },
  {
   "cell_type": "code",
   "execution_count": 47,
   "id": "hybrid-welcome",
   "metadata": {},
   "outputs": [],
   "source": [
    "target = 'arstmade'\n",
    "y=pd.DataFrame()\n",
    "y[target]=df[target]\n",
    "\n",
    "X=pd.DataFrame()               \n",
    "X['age']=df['age']\n",
    "X['searched']=df['searched']\n",
    "X['frisked']=df['frisked']\n",
    "X['pistol']=df['pistol']\n",
    "X['force used'] = df['Force used']\n",
    "X['cs_cloth'] = df['cs_cloth']\n",
    "X = X.replace((True, False), (1, 0))\n",
    "sex = pd.get_dummies(df['sex'])\n",
    "race = pd.get_dummies(df['race'])"
   ]
  },
  {
   "cell_type": "code",
   "execution_count": 48,
   "id": "copyrighted-relative",
   "metadata": {},
   "outputs": [],
   "source": [
    "X = pd.concat((X, sex, race, y), axis=1)\n",
    "#X = pd.concat((X, y), axis=1)\n",
    "X = X.astype('uint8')\n",
    "\n",
    "X_majority = X[X[target] == 0]\n",
    "X_minority = X[X[target] == 1]\n",
    "X_majority_downsampled = resample(X_majority, replace=False, n_samples=len(X_minority))\n",
    "X = pd.concat((X_minority, X_majority_downsampled))\n",
    "y = X[target]\n",
    "X = X.drop(target, axis=1)"
   ]
  },
  {
   "cell_type": "markdown",
   "id": "played-dayton",
   "metadata": {},
   "source": [
    "Make a balanced dataset. Downsampling majority class"
   ]
  },
  {
   "cell_type": "code",
   "execution_count": 49,
   "id": "moved-fields",
   "metadata": {},
   "outputs": [],
   "source": [
    "X_train, X_test, y_train, y_test = train_test_split(X, y, test_size=0.25, random_state=0)"
   ]
  },
  {
   "cell_type": "code",
   "execution_count": 50,
   "id": "comparable-charm",
   "metadata": {},
   "outputs": [],
   "source": [
    "LR = LogisticRegression(solver='lbfgs', max_iter=1000).fit(X_train, y_train.values.ravel())"
   ]
  },
  {
   "cell_type": "code",
   "execution_count": 51,
   "id": "disciplinary-economics",
   "metadata": {},
   "outputs": [
    {
     "data": {
      "image/png": "[encoded data removed]",
      "text/plain": [
       "<Figure size 720x360 with 2 Axes>"
      ]
     },
     "metadata": {
      "needs_background": "light"
     },
     "output_type": "display_data"
    }
   ],
   "source": [
    "fig, ax = plt.subplots(ncols = 2, figsize=(10, 5))\n",
    "plot_confusion_matrix(LR, X_test, y_test, normalize='pred', display_labels=['No arrest', 'Arrest'], colorbar=False, cmap='Greens', ax=ax[0])\n",
    "ax[0].set_title('Confusion matrix for logistic regression. Accuracy: {:.2f}'.format(LR.score(X_test, y_test)));\n",
    "\n",
    "\n",
    "sortidx = LR.coef_[0].argsort()\n",
    "labels = X.columns.values\n",
    "labels[6] = 'female'\n",
    "labels[10] = 'white'\n",
    "labels[9] = 'hispanic'\n",
    "labels[8] = 'black'\n",
    "labels[5] = 'criminal clothing'\n",
    "labels[7] = 'male'\n",
    "\n",
    "ax[1].barh(labels[sortidx], LR.coef_[0][sortidx])\n",
    "ax[1].set_title('Feature importance for logistic regression \\n predicting whether or not arrest was made')\n",
    "fig.tight_layout()\n",
    "fig.savefig('machine_learning.svg', dpi=600)"
   ]
  },
  {
   "cell_type": "code",
   "execution_count": 52,
   "id": "accompanied-citizen",
   "metadata": {},
   "outputs": [],
   "source": [
    "RF = RandomForestClassifier().fit(X_train, y_train.values.ravel())"
   ]
  },
  {
   "cell_type": "code",
   "execution_count": 53,
   "id": "third-adaptation",
   "metadata": {},
   "outputs": [
    {
     "data": {
      "image/png": "[encoded data removed]",
      "text/plain": [
       "<Figure size 360x360 with 1 Axes>"
      ]
     },
     "metadata": {
      "needs_background": "light"
     },
     "output_type": "display_data"
    }
   ],
   "source": [
    "fig, ax = plt.subplots(figsize=(5, 5))\n",
    "plot_confusion_matrix(RF, X_test, y_test, normalize='pred', display_labels=['No arrest', 'Arrest'], colorbar=False, cmap='Greens', ax=ax)\n",
    "ax.set_title('Confusion matrix for random forest. Accuracy: {:.2f}'.format(RF.score(X_test, y_test)));"
   ]
  }
 ],
 "metadata": {
  "kernelspec": {
   "display_name": "Python 3",
   "language": "python",
   "name": "python3"
  },
  "language_info": {
   "codemirror_mode": {
    "name": "ipython",
    "version": 3
   },
   "file_extension": ".py",
   "mimetype": "text/x-python",
   "name": "python",
   "nbconvert_exporter": "python",
   "pygments_lexer": "ipython3",
   "version": "3.9.1"
  }
 },
 "nbformat": 4,
 "nbformat_minor": 5
}
